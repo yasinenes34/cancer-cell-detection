{
 "cells": [
  {
   "cell_type": "code",
   "execution_count": 1,
   "id": "2f604305",
   "metadata": {},
   "outputs": [],
   "source": [
    "from keras.models import Sequential\n",
    "from keras.layers import Conv2D,MaxPooling2D,Flatten,Dense\n",
    "from keras.callbacks import EarlyStopping\n",
    "import matplotlib.pyplot as plt\n",
    "from keras import layers\n",
    "from keras import models\n",
    "from tensorflow.keras import optimizers\n",
    "from keras.preprocessing.image import ImageDataGenerator\n"
   ]
  },
  {
   "cell_type": "code",
   "execution_count": 2,
   "id": "36c7e3f4",
   "metadata": {},
   "outputs": [],
   "source": [
    "# model katman ve düğüm sayısı belirleme\n",
    "model = models.Sequential()\n",
    "model.add(layers.Conv2D(32, (3, 3), activation = 'relu',\n",
    "                       input_shape = (150,150, 3)))\n",
    "model.add(layers.MaxPooling2D((2, 2)))\n",
    "model.add(layers.Conv2D(64, (3, 3), activation = 'relu'))\n",
    "model.add(layers.MaxPooling2D((2, 2)))\n",
    "model.add(layers.Conv2D(128, (3, 3), activation = 'relu'))\n",
    "model.add(layers.MaxPooling2D(2, 2))\n",
    "model.add(layers.Conv2D(128, (3, 3), activation = 'relu'))\n",
    "model.add(layers.MaxPooling2D(2, 2))\n",
    "model.add(layers.Flatten())\n",
    "model.add(layers.Dense(512, activation = 'relu'))\n",
    "model.add(layers.Dense(1, activation = 'sigmoid'))\n"
   ]
  },
  {
   "cell_type": "code",
   "execution_count": 3,
   "id": "29c5cf2b",
   "metadata": {},
   "outputs": [],
   "source": [
    "# modeli oluşturma (compile işlemi)\n",
    "model.compile(loss = 'binary_crossentropy',\n",
    "             optimizer=optimizers.RMSprop(learning_rate=1e-4),\n",
    "             metrics = ['acc'])"
   ]
  },
  {
   "cell_type": "code",
   "execution_count": 4,
   "id": "11a7ac41",
   "metadata": {},
   "outputs": [
    {
     "name": "stdout",
     "output_type": "stream",
     "text": [
      "Found 2637 images belonging to 2 classes.\n",
      "Found 660 images belonging to 2 classes.\n"
     ]
    }
   ],
   "source": [
    "# Data setini import ettik\n",
    "train_datagen = ImageDataGenerator(rescale = 1./255)\n",
    "\n",
    "test_datagen = ImageDataGenerator(rescale = 1./255)\n",
    "\n",
    "training_set = train_datagen.flow_from_directory('data/train',\n",
    "                                                 target_size = (150,150),\n",
    "                                                 batch_size = 20,\n",
    "                                                 class_mode = 'binary')\n",
    "\n",
    "test_set = test_datagen.flow_from_directory('data/test',\n",
    "                                            target_size = (150,150),\n",
    "                                            batch_size = 20,\n",
    "                                            class_mode = 'binary')"
   ]
  },
  {
   "cell_type": "code",
   "execution_count": 5,
   "id": "6162bcf6",
   "metadata": {},
   "outputs": [
    {
     "name": "stdout",
     "output_type": "stream",
     "text": [
      "Epoch 1/100\n"
     ]
    },
    {
     "name": "stderr",
     "output_type": "stream",
     "text": [
      "<ipython-input-5-ffd7fd1ce5bb>:2: UserWarning: `Model.fit_generator` is deprecated and will be removed in a future version. Please use `Model.fit`, which supports generators.\n",
      "  history = model.fit_generator(\n"
     ]
    },
    {
     "name": "stdout",
     "output_type": "stream",
     "text": [
      "132/132 [==============================] - 37s 271ms/step - loss: 0.5877 - acc: 0.6777 - val_loss: 0.4651 - val_acc: 0.7515\n",
      "Epoch 2/100\n",
      "132/132 [==============================] - 34s 256ms/step - loss: 0.4629 - acc: 0.7763 - val_loss: 0.4481 - val_acc: 0.7803\n",
      "Epoch 3/100\n",
      "132/132 [==============================] - 34s 258ms/step - loss: 0.4315 - acc: 0.7986 - val_loss: 0.3907 - val_acc: 0.8258\n",
      "Epoch 4/100\n",
      "132/132 [==============================] - 34s 259ms/step - loss: 0.4155 - acc: 0.7971 - val_loss: 0.3686 - val_acc: 0.8258\n",
      "Epoch 5/100\n",
      "132/132 [==============================] - 34s 258ms/step - loss: 0.3989 - acc: 0.8108 - val_loss: 0.3637 - val_acc: 0.8212\n",
      "Epoch 6/100\n",
      "132/132 [==============================] - 34s 258ms/step - loss: 0.3854 - acc: 0.8138 - val_loss: 0.3706 - val_acc: 0.8288\n",
      "Epoch 7/100\n",
      "132/132 [==============================] - 34s 259ms/step - loss: 0.3793 - acc: 0.8142 - val_loss: 0.3739 - val_acc: 0.8364\n",
      "Epoch 8/100\n",
      "132/132 [==============================] - 34s 258ms/step - loss: 0.3646 - acc: 0.8369 - val_loss: 0.4052 - val_acc: 0.7909\n",
      "Epoch 9/100\n",
      "132/132 [==============================] - 35s 263ms/step - loss: 0.3517 - acc: 0.8275 - val_loss: 0.3459 - val_acc: 0.8485\n",
      "Epoch 10/100\n",
      "132/132 [==============================] - 37s 281ms/step - loss: 0.3417 - acc: 0.8366 - val_loss: 0.3539 - val_acc: 0.8394\n",
      "Epoch 11/100\n",
      "132/132 [==============================] - 36s 273ms/step - loss: 0.3395 - acc: 0.8350 - val_loss: 0.3951 - val_acc: 0.8258\n",
      "Epoch 12/100\n",
      "132/132 [==============================] - 34s 260ms/step - loss: 0.3217 - acc: 0.8449 - val_loss: 0.3422 - val_acc: 0.8439\n",
      "Epoch 13/100\n",
      "132/132 [==============================] - 34s 259ms/step - loss: 0.3192 - acc: 0.8498 - val_loss: 0.3671 - val_acc: 0.8273\n",
      "Epoch 14/100\n",
      "132/132 [==============================] - 34s 256ms/step - loss: 0.3158 - acc: 0.8525 - val_loss: 0.3565 - val_acc: 0.8318\n",
      "Epoch 15/100\n",
      "132/132 [==============================] - 34s 260ms/step - loss: 0.3020 - acc: 0.8593 - val_loss: 0.4020 - val_acc: 0.8106\n",
      "Epoch 16/100\n",
      "132/132 [==============================] - 34s 258ms/step - loss: 0.2904 - acc: 0.8597 - val_loss: 0.3583 - val_acc: 0.8409\n",
      "Epoch 17/100\n",
      "132/132 [==============================] - 34s 260ms/step - loss: 0.2907 - acc: 0.8646 - val_loss: 0.3433 - val_acc: 0.8364\n",
      "Epoch 18/100\n",
      "132/132 [==============================] - 34s 256ms/step - loss: 0.2845 - acc: 0.8654 - val_loss: 0.3475 - val_acc: 0.8318\n",
      "Epoch 19/100\n",
      "132/132 [==============================] - 34s 259ms/step - loss: 0.2688 - acc: 0.8783 - val_loss: 0.3510 - val_acc: 0.8485\n",
      "Epoch 20/100\n",
      "132/132 [==============================] - 34s 258ms/step - loss: 0.2658 - acc: 0.8771 - val_loss: 0.3358 - val_acc: 0.8621\n",
      "Epoch 21/100\n",
      "132/132 [==============================] - 36s 275ms/step - loss: 0.2662 - acc: 0.8828 - val_loss: 0.3460 - val_acc: 0.8500\n",
      "Epoch 22/100\n",
      "132/132 [==============================] - 35s 266ms/step - loss: 0.2581 - acc: 0.8874 - val_loss: 0.3881 - val_acc: 0.8318\n",
      "Epoch 23/100\n",
      "132/132 [==============================] - 34s 259ms/step - loss: 0.2443 - acc: 0.8881 - val_loss: 0.3416 - val_acc: 0.8485\n",
      "Epoch 24/100\n",
      "132/132 [==============================] - 34s 258ms/step - loss: 0.2416 - acc: 0.8969 - val_loss: 0.3663 - val_acc: 0.8348\n",
      "Epoch 25/100\n",
      "132/132 [==============================] - 34s 257ms/step - loss: 0.2294 - acc: 0.8946 - val_loss: 0.3351 - val_acc: 0.8591\n",
      "Epoch 26/100\n",
      "132/132 [==============================] - 34s 259ms/step - loss: 0.2290 - acc: 0.8953 - val_loss: 0.3833 - val_acc: 0.8409\n",
      "Epoch 27/100\n",
      "132/132 [==============================] - 35s 267ms/step - loss: 0.2271 - acc: 0.8972 - val_loss: 0.3424 - val_acc: 0.8530\n",
      "Epoch 28/100\n",
      "132/132 [==============================] - 34s 259ms/step - loss: 0.2091 - acc: 0.9075 - val_loss: 0.3414 - val_acc: 0.8455\n",
      "Epoch 29/100\n",
      "132/132 [==============================] - 35s 264ms/step - loss: 0.2061 - acc: 0.9063 - val_loss: 0.3756 - val_acc: 0.8515\n",
      "Epoch 30/100\n",
      "132/132 [==============================] - 36s 270ms/step - loss: 0.2032 - acc: 0.9101 - val_loss: 0.3618 - val_acc: 0.8455\n",
      "Epoch 31/100\n",
      "132/132 [==============================] - 35s 263ms/step - loss: 0.1862 - acc: 0.9196 - val_loss: 0.3908 - val_acc: 0.8561\n",
      "Epoch 32/100\n",
      "132/132 [==============================] - 37s 278ms/step - loss: 0.1832 - acc: 0.9215 - val_loss: 0.3935 - val_acc: 0.8288\n",
      "Epoch 33/100\n",
      "132/132 [==============================] - 35s 266ms/step - loss: 0.1742 - acc: 0.9215 - val_loss: 0.3823 - val_acc: 0.8303\n",
      "Epoch 34/100\n",
      "132/132 [==============================] - 34s 261ms/step - loss: 0.1693 - acc: 0.9298 - val_loss: 0.3777 - val_acc: 0.8424\n",
      "Epoch 35/100\n",
      "132/132 [==============================] - 34s 258ms/step - loss: 0.1582 - acc: 0.9374 - val_loss: 0.3835 - val_acc: 0.8515\n",
      "Epoch 36/100\n",
      "132/132 [==============================] - 34s 261ms/step - loss: 0.1552 - acc: 0.9340 - val_loss: 0.3750 - val_acc: 0.8515\n",
      "Epoch 37/100\n",
      "132/132 [==============================] - 34s 257ms/step - loss: 0.1460 - acc: 0.9359 - val_loss: 0.4104 - val_acc: 0.8348\n",
      "Epoch 38/100\n",
      "132/132 [==============================] - 34s 261ms/step - loss: 0.1458 - acc: 0.9458 - val_loss: 0.4181 - val_acc: 0.8485\n",
      "Epoch 39/100\n",
      "132/132 [==============================] - 34s 258ms/step - loss: 0.1294 - acc: 0.9492 - val_loss: 0.3849 - val_acc: 0.8470\n",
      "Epoch 40/100\n",
      "132/132 [==============================] - 36s 270ms/step - loss: 0.1244 - acc: 0.9507 - val_loss: 0.4100 - val_acc: 0.8348\n",
      "Epoch 41/100\n",
      "132/132 [==============================] - 34s 260ms/step - loss: 0.1210 - acc: 0.9549 - val_loss: 0.4880 - val_acc: 0.8106\n",
      "Epoch 42/100\n",
      "132/132 [==============================] - 34s 260ms/step - loss: 0.1125 - acc: 0.9571 - val_loss: 0.4280 - val_acc: 0.8394\n",
      "Epoch 43/100\n",
      "132/132 [==============================] - 34s 260ms/step - loss: 0.1069 - acc: 0.9606 - val_loss: 0.5084 - val_acc: 0.8348\n",
      "Epoch 44/100\n",
      "132/132 [==============================] - 37s 280ms/step - loss: 0.1013 - acc: 0.9609 - val_loss: 0.5187 - val_acc: 0.8379\n",
      "Epoch 45/100\n",
      "132/132 [==============================] - 36s 276ms/step - loss: 0.0954 - acc: 0.9651 - val_loss: 0.4859 - val_acc: 0.8485\n",
      "Epoch 46/100\n",
      "132/132 [==============================] - 35s 264ms/step - loss: 0.0839 - acc: 0.9693 - val_loss: 0.5266 - val_acc: 0.8621\n",
      "Epoch 47/100\n",
      "132/132 [==============================] - 38s 284ms/step - loss: 0.0854 - acc: 0.9670 - val_loss: 0.4986 - val_acc: 0.8333\n",
      "Epoch 48/100\n",
      "132/132 [==============================] - 36s 270ms/step - loss: 0.0706 - acc: 0.9772 - val_loss: 0.6369 - val_acc: 0.8439\n",
      "Epoch 49/100\n",
      "132/132 [==============================] - 35s 266ms/step - loss: 0.0700 - acc: 0.9742 - val_loss: 0.5164 - val_acc: 0.8364\n",
      "Epoch 50/100\n",
      "132/132 [==============================] - 35s 263ms/step - loss: 0.0599 - acc: 0.9788 - val_loss: 0.4971 - val_acc: 0.8530\n",
      "Epoch 51/100\n",
      "132/132 [==============================] - 35s 266ms/step - loss: 0.0569 - acc: 0.9791 - val_loss: 0.5405 - val_acc: 0.8409\n",
      "Epoch 52/100\n",
      "132/132 [==============================] - 35s 263ms/step - loss: 0.0523 - acc: 0.9807 - val_loss: 0.6051 - val_acc: 0.8288\n",
      "Epoch 53/100\n",
      "132/132 [==============================] - 35s 267ms/step - loss: 0.0524 - acc: 0.9826 - val_loss: 0.5919 - val_acc: 0.8591\n",
      "Epoch 54/100\n",
      "132/132 [==============================] - 36s 272ms/step - loss: 0.0477 - acc: 0.9829 - val_loss: 0.5932 - val_acc: 0.8545\n",
      "Epoch 55/100\n",
      "132/132 [==============================] - 35s 268ms/step - loss: 0.0468 - acc: 0.9822 - val_loss: 0.6175 - val_acc: 0.8591\n",
      "Epoch 56/100\n",
      "132/132 [==============================] - 35s 267ms/step - loss: 0.0441 - acc: 0.9875 - val_loss: 0.7050 - val_acc: 0.8379\n",
      "Epoch 57/100\n",
      "132/132 [==============================] - 35s 267ms/step - loss: 0.0386 - acc: 0.9882 - val_loss: 0.6231 - val_acc: 0.8515\n",
      "Epoch 58/100\n",
      "132/132 [==============================] - 36s 275ms/step - loss: 0.0329 - acc: 0.9913 - val_loss: 0.6708 - val_acc: 0.8455\n",
      "Epoch 59/100\n",
      "132/132 [==============================] - 35s 268ms/step - loss: 0.0285 - acc: 0.9909 - val_loss: 0.6369 - val_acc: 0.8530\n",
      "Epoch 60/100\n",
      "132/132 [==============================] - 37s 283ms/step - loss: 0.0295 - acc: 0.9917 - val_loss: 0.6922 - val_acc: 0.8242\n"
     ]
    },
    {
     "name": "stdout",
     "output_type": "stream",
     "text": [
      "Epoch 61/100\n",
      "132/132 [==============================] - 37s 283ms/step - loss: 0.0271 - acc: 0.9909 - val_loss: 0.7803 - val_acc: 0.8424\n",
      "Epoch 62/100\n",
      "132/132 [==============================] - 37s 279ms/step - loss: 0.0282 - acc: 0.9901 - val_loss: 0.7693 - val_acc: 0.8333\n",
      "Epoch 63/100\n",
      "132/132 [==============================] - 35s 269ms/step - loss: 0.0211 - acc: 0.9936 - val_loss: 0.8115 - val_acc: 0.8439\n",
      "Epoch 64/100\n",
      "132/132 [==============================] - 36s 274ms/step - loss: 0.0213 - acc: 0.9920 - val_loss: 0.7147 - val_acc: 0.8470\n",
      "Epoch 65/100\n",
      "132/132 [==============================] - 36s 269ms/step - loss: 0.0201 - acc: 0.9943 - val_loss: 0.7577 - val_acc: 0.8394\n",
      "Epoch 66/100\n",
      "132/132 [==============================] - 38s 290ms/step - loss: 0.0229 - acc: 0.9917 - val_loss: 0.7195 - val_acc: 0.8470\n",
      "Epoch 67/100\n",
      "132/132 [==============================] - 36s 273ms/step - loss: 0.0155 - acc: 0.9966 - val_loss: 0.7835 - val_acc: 0.8379\n",
      "Epoch 68/100\n",
      "132/132 [==============================] - 36s 271ms/step - loss: 0.0169 - acc: 0.9932 - val_loss: 0.8033 - val_acc: 0.8455\n",
      "Epoch 69/100\n",
      "132/132 [==============================] - 36s 271ms/step - loss: 0.0150 - acc: 0.9951 - val_loss: 0.8434 - val_acc: 0.8424\n",
      "Epoch 70/100\n",
      "132/132 [==============================] - 36s 273ms/step - loss: 0.0220 - acc: 0.9936 - val_loss: 0.8085 - val_acc: 0.8455\n",
      "Epoch 71/100\n",
      "132/132 [==============================] - 36s 271ms/step - loss: 0.0155 - acc: 0.9954 - val_loss: 1.1615 - val_acc: 0.8030\n",
      "Epoch 72/100\n",
      "132/132 [==============================] - 37s 281ms/step - loss: 0.0163 - acc: 0.9947 - val_loss: 0.8581 - val_acc: 0.8439\n",
      "Epoch 73/100\n",
      "132/132 [==============================] - 36s 275ms/step - loss: 0.0152 - acc: 0.9951 - val_loss: 0.8400 - val_acc: 0.8348\n",
      "Epoch 74/100\n",
      "132/132 [==============================] - 38s 286ms/step - loss: 0.0157 - acc: 0.9962 - val_loss: 0.8658 - val_acc: 0.8333\n",
      "Epoch 75/100\n",
      "132/132 [==============================] - 36s 276ms/step - loss: 0.0111 - acc: 0.9977 - val_loss: 0.9804 - val_acc: 0.8424\n",
      "Epoch 76/100\n",
      "132/132 [==============================] - 36s 272ms/step - loss: 0.0156 - acc: 0.9951 - val_loss: 0.9482 - val_acc: 0.8348\n",
      "Epoch 77/100\n",
      "132/132 [==============================] - 39s 292ms/step - loss: 0.0165 - acc: 0.9970 - val_loss: 0.9329 - val_acc: 0.8394\n",
      "Epoch 78/100\n",
      "132/132 [==============================] - 37s 277ms/step - loss: 0.0104 - acc: 0.9977 - val_loss: 0.9719 - val_acc: 0.8530\n",
      "Epoch 79/100\n",
      "132/132 [==============================] - 36s 274ms/step - loss: 0.0223 - acc: 0.9951 - val_loss: 0.9757 - val_acc: 0.8333\n",
      "Epoch 80/100\n",
      "132/132 [==============================] - 37s 283ms/step - loss: 0.0220 - acc: 0.9943 - val_loss: 1.0618 - val_acc: 0.8379\n",
      "Epoch 81/100\n",
      "132/132 [==============================] - 38s 288ms/step - loss: 0.0166 - acc: 0.9973 - val_loss: 1.0412 - val_acc: 0.8364\n",
      "Epoch 82/100\n",
      "132/132 [==============================] - 37s 277ms/step - loss: 0.0099 - acc: 0.9977 - val_loss: 0.9932 - val_acc: 0.8333\n",
      "Epoch 83/100\n",
      "132/132 [==============================] - 36s 272ms/step - loss: 0.0109 - acc: 0.9966 - val_loss: 1.0487 - val_acc: 0.8485\n",
      "Epoch 84/100\n",
      "132/132 [==============================] - 38s 287ms/step - loss: 0.0083 - acc: 0.9973 - val_loss: 1.0290 - val_acc: 0.8470\n",
      "Epoch 85/100\n",
      "132/132 [==============================] - 36s 276ms/step - loss: 0.0100 - acc: 0.9970 - val_loss: 1.0391 - val_acc: 0.8500\n",
      "Epoch 86/100\n",
      "132/132 [==============================] - 38s 289ms/step - loss: 0.0221 - acc: 0.9966 - val_loss: 1.0705 - val_acc: 0.8515\n",
      "Epoch 87/100\n",
      "132/132 [==============================] - 37s 278ms/step - loss: 0.0078 - acc: 0.9985 - val_loss: 1.0830 - val_acc: 0.8348\n",
      "Epoch 88/100\n",
      "132/132 [==============================] - 37s 278ms/step - loss: 0.0171 - acc: 0.9951 - val_loss: 1.1575 - val_acc: 0.8424\n",
      "Epoch 89/100\n",
      "132/132 [==============================] - 37s 282ms/step - loss: 0.0056 - acc: 0.9985 - val_loss: 1.1542 - val_acc: 0.8409\n",
      "Epoch 90/100\n",
      "132/132 [==============================] - 38s 288ms/step - loss: 0.0152 - acc: 0.9962 - val_loss: 1.2460 - val_acc: 0.8379\n",
      "Epoch 91/100\n",
      "132/132 [==============================] - 36s 270ms/step - loss: 0.0051 - acc: 0.9981 - val_loss: 1.2141 - val_acc: 0.8273\n",
      "Epoch 92/100\n",
      "132/132 [==============================] - 38s 287ms/step - loss: 0.0188 - acc: 0.9958 - val_loss: 1.3031 - val_acc: 0.8409\n",
      "Epoch 93/100\n",
      "132/132 [==============================] - 40s 303ms/step - loss: 0.0084 - acc: 0.9970 - val_loss: 1.1456 - val_acc: 0.8561\n",
      "Epoch 94/100\n",
      "132/132 [==============================] - 39s 294ms/step - loss: 0.0024 - acc: 0.9989 - val_loss: 1.1958 - val_acc: 0.8455\n",
      "Epoch 95/100\n",
      "132/132 [==============================] - 37s 282ms/step - loss: 0.0048 - acc: 0.9985 - val_loss: 1.2525 - val_acc: 0.8470\n",
      "Epoch 96/100\n",
      "132/132 [==============================] - 38s 285ms/step - loss: 0.0110 - acc: 0.9977 - val_loss: 1.3358 - val_acc: 0.8394\n",
      "Epoch 97/100\n",
      "132/132 [==============================] - 37s 278ms/step - loss: 0.0062 - acc: 0.9973 - val_loss: 1.2575 - val_acc: 0.8409\n",
      "Epoch 98/100\n",
      "132/132 [==============================] - 39s 294ms/step - loss: 0.0194 - acc: 0.9962 - val_loss: 1.2741 - val_acc: 0.8424\n",
      "Epoch 99/100\n",
      "132/132 [==============================] - 38s 288ms/step - loss: 0.0040 - acc: 0.9985 - val_loss: 1.2074 - val_acc: 0.8561\n",
      "Epoch 100/100\n",
      "132/132 [==============================] - 39s 295ms/step - loss: 0.0086 - acc: 0.9981 - val_loss: 1.2148 - val_acc: 0.8364\n"
     ]
    }
   ],
   "source": [
    "#eğitim kısmı\n",
    "history = model.fit_generator(\n",
    "                training_set,\n",
    "                steps_per_epoch = len(training_set),\n",
    "                epochs = 100,\n",
    "                validation_data = test_set,\n",
    "                validation_steps = len(test_set))"
   ]
  },
  {
   "cell_type": "code",
   "execution_count": 6,
   "id": "7af018ca",
   "metadata": {
    "scrolled": false
   },
   "outputs": [
    {
     "data": {
      "image/png": "[encoded data removed]",
      "text/plain": [
       "<Figure size 432x288 with 1 Axes>"
      ]
     },
     "metadata": {
      "needs_background": "light"
     },
     "output_type": "display_data"
    },
    {
     "data": {
      "image/png": "[encoded data removed]",
      "text/plain": [
       "<Figure size 432x288 with 1 Axes>"
      ]
     },
     "metadata": {
      "needs_background": "light"
     },
     "output_type": "display_data"
    }
   ],
   "source": [
    "# eğitilen modelin sonuçlarını gösterme\n",
    "acc = history.history['acc']\n",
    "val_acc = history.history['val_acc']\n",
    "loss = history.history['loss']\n",
    "val_loss = history.history['val_loss']\n",
    "\n",
    "epochs = range(1, len(acc) + 1)\n",
    "\n",
    "plt.plot(epochs, acc, 'bo', label = 'Training acc')\n",
    "plt.plot(epochs, val_acc, 'b', label = 'Validation acc')\n",
    "plt.title('Training and Validation Accuracy')\n",
    "plt.legend()\n",
    "\n",
    "plt.figure()\n",
    "\n",
    "plt.plot(epochs, loss, 'bo', label = 'Training loss')\n",
    "plt.plot(epochs, val_loss, 'b', label = 'Validation loss')\n",
    "plt.title('Training and Validation Loss')\n",
    "plt.legend()\n",
    "\n",
    "plt.show()"
   ]
  },
  {
   "cell_type": "markdown",
   "id": "84ec6a4e",
   "metadata": {},
   "source": [
    "### Epoch Kesme İşlemi\n"
   ]
  },
  {
   "cell_type": "code",
   "execution_count": 11,
   "id": "7b39b17f",
   "metadata": {},
   "outputs": [],
   "source": [
    "model = models.Sequential()\n",
    "model.add(layers.Conv2D(32, (3, 3), activation = 'relu',\n",
    "                       input_shape = (150,150, 3)))\n",
    "model.add(layers.MaxPooling2D((2, 2)))\n",
    "model.add(layers.Conv2D(64, (3, 3), activation = 'relu'))\n",
    "model.add(layers.MaxPooling2D((2, 2)))\n",
    "model.add(layers.Conv2D(128, (3, 3), activation = 'relu'))\n",
    "model.add(layers.MaxPooling2D(2, 2))\n",
    "model.add(layers.Conv2D(128, (3, 3), activation = 'relu'))\n",
    "model.add(layers.MaxPooling2D(2, 2))\n",
    "model.add(layers.Flatten())\n",
    "model.add(layers.Dense(512, activation = 'relu'))\n",
    "model.add(layers.Dense(1, activation = 'sigmoid'))"
   ]
  },
  {
   "cell_type": "code",
   "execution_count": 12,
   "id": "dcfff34f",
   "metadata": {},
   "outputs": [],
   "source": [
    "model.compile(loss = 'binary_crossentropy',\n",
    "             optimizer=optimizers.RMSprop(learning_rate=1e-4),\n",
    "             metrics = ['acc'])"
   ]
  },
  {
   "cell_type": "code",
   "execution_count": 13,
   "id": "e8adfabe",
   "metadata": {},
   "outputs": [
    {
     "name": "stdout",
     "output_type": "stream",
     "text": [
      "Found 2637 images belonging to 2 classes.\n",
      "Found 660 images belonging to 2 classes.\n"
     ]
    }
   ],
   "source": [
    "train_datagen = ImageDataGenerator(rescale = 1./255)\n",
    "\n",
    "test_datagen = ImageDataGenerator(rescale = 1./255)\n",
    "\n",
    "training_set = train_datagen.flow_from_directory('data/train',\n",
    "                                                 target_size = (150,150),\n",
    "                                                 batch_size = 20,\n",
    "                                                 class_mode = 'binary')\n",
    "\n",
    "test_set = test_datagen.flow_from_directory('data/test',\n",
    "                                            target_size = (150,150),\n",
    "                                            batch_size = 20,\n",
    "                                            class_mode = 'binary')"
   ]
  },
  {
   "cell_type": "code",
   "execution_count": 14,
   "id": "8c0e9708",
   "metadata": {},
   "outputs": [
    {
     "name": "stdout",
     "output_type": "stream",
     "text": [
      "Epoch 1/13\n"
     ]
    },
    {
     "name": "stderr",
     "output_type": "stream",
     "text": [
      "<ipython-input-14-ec72a6c8fe22>:1: UserWarning: `Model.fit_generator` is deprecated and will be removed in a future version. Please use `Model.fit`, which supports generators.\n",
      "  history1 = model.fit_generator(\n"
     ]
    },
    {
     "name": "stdout",
     "output_type": "stream",
     "text": [
      "100/100 [==============================] - 31s 301ms/step - loss: 0.6274 - acc: 0.6485 - val_loss: 0.5168 - val_acc: 0.7750\n",
      "Epoch 2/13\n",
      "100/100 [==============================] - 30s 301ms/step - loss: 0.5090 - acc: 0.7456 - val_loss: 0.4189 - val_acc: 0.7867\n",
      "Epoch 3/13\n",
      "100/100 [==============================] - 30s 296ms/step - loss: 0.4748 - acc: 0.7630 - val_loss: 0.4205 - val_acc: 0.7917\n",
      "Epoch 4/13\n",
      "100/100 [==============================] - 29s 293ms/step - loss: 0.4530 - acc: 0.7772 - val_loss: 0.4818 - val_acc: 0.7467\n",
      "Epoch 5/13\n",
      "100/100 [==============================] - 29s 294ms/step - loss: 0.4261 - acc: 0.7962 - val_loss: 0.4102 - val_acc: 0.7933\n",
      "Epoch 6/13\n",
      "100/100 [==============================] - 29s 292ms/step - loss: 0.4195 - acc: 0.7947 - val_loss: 0.3829 - val_acc: 0.8067\n",
      "Epoch 7/13\n",
      "100/100 [==============================] - 29s 291ms/step - loss: 0.4002 - acc: 0.8027 - val_loss: 0.3688 - val_acc: 0.8567\n",
      "Epoch 8/13\n",
      "100/100 [==============================] - 29s 294ms/step - loss: 0.3927 - acc: 0.8187 - val_loss: 0.3673 - val_acc: 0.8150\n",
      "Epoch 9/13\n",
      "100/100 [==============================] - 30s 298ms/step - loss: 0.3898 - acc: 0.8142 - val_loss: 0.3698 - val_acc: 0.7967\n",
      "Epoch 10/13\n",
      "100/100 [==============================] - 30s 298ms/step - loss: 0.3804 - acc: 0.8257 - val_loss: 0.4053 - val_acc: 0.8117\n",
      "Epoch 11/13\n",
      "100/100 [==============================] - 30s 298ms/step - loss: 0.3666 - acc: 0.8262 - val_loss: 0.3787 - val_acc: 0.8000\n",
      "Epoch 12/13\n",
      "100/100 [==============================] - 30s 296ms/step - loss: 0.3691 - acc: 0.8237 - val_loss: 0.3470 - val_acc: 0.8250\n",
      "Epoch 13/13\n",
      "100/100 [==============================] - 30s 298ms/step - loss: 0.3490 - acc: 0.8327 - val_loss: 0.3567 - val_acc: 0.8333\n"
     ]
    }
   ],
   "source": [
    "history1 = model.fit_generator(\n",
    "                training_set,\n",
    "                steps_per_epoch = len(training_set),\n",
    "                epochs = 13,\n",
    "                validation_data = test_set,\n",
    "                validation_steps = len(test_set))"
   ]
  },
  {
   "cell_type": "code",
   "execution_count": 15,
   "id": "833fcab3",
   "metadata": {},
   "outputs": [
    {
     "data": {
      "image/png": "[encoded data removed]",
      "text/plain": [
       "<Figure size 432x288 with 1 Axes>"
      ]
     },
     "metadata": {
      "needs_background": "light"
     },
     "output_type": "display_data"
    },
    {
     "data": {
      "image/png": "[encoded data removed]",
      "text/plain": [
       "<Figure size 432x288 with 1 Axes>"
      ]
     },
     "metadata": {
      "needs_background": "light"
     },
     "output_type": "display_data"
    }
   ],
   "source": [
    "acc = history1.history['acc']\n",
    "val_acc = history1.history['val_acc']\n",
    "loss = history1.history['loss']\n",
    "val_loss = history1.history['val_loss']\n",
    "\n",
    "epochs = range(1, len(acc) + 1)\n",
    "\n",
    "plt.plot(epochs, acc, 'bo', label = 'Training acc')\n",
    "plt.plot(epochs, val_acc, 'b', label = 'Validation acc')\n",
    "plt.title('Training and Validation Accuracy')\n",
    "plt.legend()\n",
    "\n",
    "plt.figure()\n",
    "\n",
    "plt.plot(epochs, loss, 'bo', label = 'Training loss')\n",
    "plt.plot(epochs, val_loss, 'b', label = 'Validation loss')\n",
    "plt.title('Training and Validation Loss')\n",
    "plt.legend()\n",
    "\n",
    "plt.show()"
   ]
  },
  {
   "cell_type": "markdown",
   "id": "b383861f",
   "metadata": {},
   "source": [
    "# Drop-Out kısmı\n"
   ]
  },
  {
   "cell_type": "code",
   "execution_count": 16,
   "id": "fd6e5d3c",
   "metadata": {},
   "outputs": [],
   "source": [
    "model = models.Sequential()\n",
    "model.add(layers.Conv2D(32, (3, 3), activation = 'relu',\n",
    "                       input_shape = (150,150, 3)))\n",
    "model.add(layers.MaxPooling2D((2, 2)))\n",
    "model.add(layers.Conv2D(64, (3, 3), activation = 'relu'))\n",
    "model.add(layers.MaxPooling2D((2, 2)))\n",
    "model.add(layers.Conv2D(128, (3, 3), activation = 'relu'))\n",
    "model.add(layers.MaxPooling2D(2, 2))\n",
    "model.add(layers.Conv2D(128, (3, 3), activation = 'relu'))\n",
    "model.add(layers.MaxPooling2D(2, 2))\n",
    "model.add(layers.Flatten())\n",
    "model.add(layers.Dropout(0.3)) #dropout yaptığımız yer \n",
    "model.add(layers.Dense(512, activation = 'relu'))\n",
    "model.add(layers.Dense(1, activation = 'sigmoid'))"
   ]
  },
  {
   "cell_type": "code",
   "execution_count": 17,
   "id": "3f2d3efb",
   "metadata": {},
   "outputs": [],
   "source": [
    "model.compile(loss = 'binary_crossentropy',\n",
    "             optimizer=optimizers.RMSprop(learning_rate=1e-4),\n",
    "             metrics = ['acc'])"
   ]
  },
  {
   "cell_type": "code",
   "execution_count": 18,
   "id": "2445460c",
   "metadata": {},
   "outputs": [
    {
     "name": "stdout",
     "output_type": "stream",
     "text": [
      "Found 2637 images belonging to 2 classes.\n",
      "Found 660 images belonging to 2 classes.\n"
     ]
    }
   ],
   "source": [
    "train_datagen = ImageDataGenerator(rescale = 1./255)\n",
    "\n",
    "test_datagen = ImageDataGenerator(rescale = 1./255)\n",
    "\n",
    "training_set = train_datagen.flow_from_directory('data/train',\n",
    "                                                 target_size = (150,150),\n",
    "                                                 batch_size = 20,\n",
    "                                                 class_mode = 'binary')\n",
    "\n",
    "test_set = test_datagen.flow_from_directory('data/test',\n",
    "                                            target_size = (150,150),\n",
    "                                            batch_size = 20,\n",
    "                                            class_mode = 'binary')"
   ]
  },
  {
   "cell_type": "code",
   "execution_count": 19,
   "id": "45d77be5",
   "metadata": {},
   "outputs": [
    {
     "name": "stdout",
     "output_type": "stream",
     "text": [
      "Epoch 1/15\n"
     ]
    },
    {
     "name": "stderr",
     "output_type": "stream",
     "text": [
      "<ipython-input-19-c743601e0fc3>:1: UserWarning: `Model.fit_generator` is deprecated and will be removed in a future version. Please use `Model.fit`, which supports generators.\n",
      "  history2 = model.fit_generator(\n"
     ]
    },
    {
     "name": "stdout",
     "output_type": "stream",
     "text": [
      "132/132 [==============================] - 41s 302ms/step - loss: 0.5501 - acc: 0.7072 - val_loss: 0.4381 - val_acc: 0.7591\n",
      "Epoch 2/15\n",
      "132/132 [==============================] - 39s 296ms/step - loss: 0.4530 - acc: 0.7732 - val_loss: 0.4259 - val_acc: 0.7788\n",
      "Epoch 3/15\n",
      "132/132 [==============================] - 38s 288ms/step - loss: 0.4432 - acc: 0.7793 - val_loss: 0.3961 - val_acc: 0.8015\n",
      "Epoch 4/15\n",
      "132/132 [==============================] - 38s 288ms/step - loss: 0.4202 - acc: 0.7937 - val_loss: 0.3819 - val_acc: 0.8197\n",
      "Epoch 5/15\n",
      "132/132 [==============================] - 38s 289ms/step - loss: 0.4097 - acc: 0.8051 - val_loss: 0.3647 - val_acc: 0.8303\n",
      "Epoch 6/15\n",
      "132/132 [==============================] - 38s 285ms/step - loss: 0.3987 - acc: 0.8127 - val_loss: 0.3654 - val_acc: 0.8136\n",
      "Epoch 7/15\n",
      "132/132 [==============================] - 38s 287ms/step - loss: 0.3865 - acc: 0.8191 - val_loss: 0.3563 - val_acc: 0.8424\n",
      "Epoch 8/15\n",
      "132/132 [==============================] - 40s 300ms/step - loss: 0.3768 - acc: 0.8218 - val_loss: 0.4045 - val_acc: 0.8121\n",
      "Epoch 9/15\n",
      "132/132 [==============================] - 37s 284ms/step - loss: 0.3661 - acc: 0.8290 - val_loss: 0.3686 - val_acc: 0.8348\n",
      "Epoch 10/15\n",
      "132/132 [==============================] - 39s 293ms/step - loss: 0.3574 - acc: 0.8301 - val_loss: 0.3607 - val_acc: 0.8455\n",
      "Epoch 11/15\n",
      "132/132 [==============================] - 41s 308ms/step - loss: 0.3498 - acc: 0.8328 - val_loss: 0.3424 - val_acc: 0.8439\n",
      "Epoch 12/15\n",
      "132/132 [==============================] - 40s 307ms/step - loss: 0.3441 - acc: 0.8362 - val_loss: 0.3632 - val_acc: 0.8212\n",
      "Epoch 13/15\n",
      "132/132 [==============================] - 39s 294ms/step - loss: 0.3344 - acc: 0.8388 - val_loss: 0.3508 - val_acc: 0.8318\n",
      "Epoch 14/15\n",
      "132/132 [==============================] - 39s 297ms/step - loss: 0.3256 - acc: 0.8476 - val_loss: 0.3473 - val_acc: 0.8439\n",
      "Epoch 15/15\n",
      "132/132 [==============================] - 39s 294ms/step - loss: 0.3181 - acc: 0.8460 - val_loss: 0.3539 - val_acc: 0.8333\n"
     ]
    }
   ],
   "source": [
    "history2 = model.fit_generator(\n",
    "                training_set,\n",
    "                steps_per_epoch = len(training_set),\n",
    "                epochs = 15,\n",
    "                validation_data = test_set,\n",
    "                validation_steps = len(test_set))"
   ]
  },
  {
   "cell_type": "code",
   "execution_count": 20,
   "id": "be02fafd",
   "metadata": {},
   "outputs": [
    {
     "data": {
      "image/png": "[encoded data removed]",
      "text/plain": [
       "<Figure size 432x288 with 1 Axes>"
      ]
     },
     "metadata": {
      "needs_background": "light"
     },
     "output_type": "display_data"
    },
    {
     "data": {
      "image/png": "[encoded data removed]",
      "text/plain": [
       "<Figure size 432x288 with 1 Axes>"
      ]
     },
     "metadata": {
      "needs_background": "light"
     },
     "output_type": "display_data"
    }
   ],
   "source": [
    "acc = history2.history['acc']\n",
    "val_acc = history2.history['val_acc']\n",
    "loss = history2.history['loss']\n",
    "val_loss = history2.history['val_loss']\n",
    "\n",
    "epochs = range(1, len(acc) + 1)\n",
    "\n",
    "plt.plot(epochs, acc, 'bo', label = 'Training acc')\n",
    "plt.plot(epochs, val_acc, 'b', label = 'Validation acc')\n",
    "plt.title('Training and Validation Accuracy')\n",
    "plt.legend()\n",
    "\n",
    "plt.figure()\n",
    "\n",
    "plt.plot(epochs, loss, 'bo', label = 'Training loss')\n",
    "plt.plot(epochs, val_loss, 'b', label = 'Validation loss')\n",
    "plt.title('Training and Validation Loss')\n",
    "plt.legend()\n",
    "\n",
    "plt.show()"
   ]
  },
  {
   "cell_type": "markdown",
   "id": "638b6af4",
   "metadata": {},
   "source": [
    "# Katman ekleme düğüm sayıları ile oynama kısmı\n"
   ]
  },
  {
   "cell_type": "code",
   "execution_count": 29,
   "id": "d9f6d2ca",
   "metadata": {},
   "outputs": [],
   "source": [
    "model = models.Sequential()\n",
    "model.add(layers.Conv2D(32, (4, 4), activation = 'relu',\n",
    "                       input_shape = (150,150, 3)))\n",
    "model.add(layers.MaxPooling2D((2, 2)))\n",
    "model.add(layers.Conv2D(64, (3, 3), activation = 'relu'))\n",
    "model.add(layers.MaxPooling2D((2, 2)))\n",
    "model.add(layers.Conv2D(256, (3, 3), activation = 'relu'))\n",
    "model.add(layers.MaxPooling2D(2, 2))\n",
    "model.add(layers.Conv2D(256, (3, 3), activation = 'relu'))\n",
    "model.add(layers.MaxPooling2D(2, 2))\n",
    "model.add(layers.Conv2D(256, (3, 3), activation = 'relu'))\n",
    "model.add(layers.MaxPooling2D(2, 2))\n",
    "model.add(layers.Flatten())\n",
    "model.add(layers.Dense(512, activation = 'relu'))\n",
    "model.add(layers.Dense(1, activation = 'sigmoid'))"
   ]
  },
  {
   "cell_type": "code",
   "execution_count": 30,
   "id": "123fcacc",
   "metadata": {},
   "outputs": [],
   "source": [
    "model.compile(loss = 'binary_crossentropy',\n",
    "             optimizer=optimizers.RMSprop(learning_rate=1e-4),\n",
    "             metrics = ['acc'])"
   ]
  },
  {
   "cell_type": "code",
   "execution_count": 31,
   "id": "ff96a723",
   "metadata": {},
   "outputs": [
    {
     "name": "stdout",
     "output_type": "stream",
     "text": [
      "Found 2637 images belonging to 2 classes.\n",
      "Found 660 images belonging to 2 classes.\n"
     ]
    }
   ],
   "source": [
    "train_datagen = ImageDataGenerator(rescale = 1./255)\n",
    "\n",
    "test_datagen = ImageDataGenerator(rescale = 1./255)\n",
    "\n",
    "training_set = train_datagen.flow_from_directory('data/train',\n",
    "                                                 target_size = (150,150),\n",
    "                                                 batch_size = 20,\n",
    "                                                 class_mode = 'binary')\n",
    "\n",
    "test_set = test_datagen.flow_from_directory('data/test',\n",
    "                                            target_size = (150,150),\n",
    "                                            batch_size = 20,\n",
    "                                            class_mode = 'binary')"
   ]
  },
  {
   "cell_type": "code",
   "execution_count": 32,
   "id": "7a54963b",
   "metadata": {},
   "outputs": [
    {
     "name": "stdout",
     "output_type": "stream",
     "text": [
      "Epoch 1/15\n"
     ]
    },
    {
     "name": "stderr",
     "output_type": "stream",
     "text": [
      "<ipython-input-32-ec084dd42167>:1: UserWarning: `Model.fit_generator` is deprecated and will be removed in a future version. Please use `Model.fit`, which supports generators.\n",
      "  history3 = model.fit_generator(\n"
     ]
    },
    {
     "name": "stdout",
     "output_type": "stream",
     "text": [
      "132/132 [==============================] - 51s 384ms/step - loss: 0.5921 - acc: 0.6724 - val_loss: 0.6934 - val_acc: 0.6379\n",
      "Epoch 2/15\n",
      "132/132 [==============================] - 50s 380ms/step - loss: 0.4962 - acc: 0.7581 - val_loss: 0.4306 - val_acc: 0.7803\n",
      "Epoch 3/15\n",
      "132/132 [==============================] - 51s 388ms/step - loss: 0.4542 - acc: 0.7759 - val_loss: 0.4051 - val_acc: 0.8227\n",
      "Epoch 4/15\n",
      "132/132 [==============================] - 49s 368ms/step - loss: 0.4366 - acc: 0.7842 - val_loss: 0.3980 - val_acc: 0.8167\n",
      "Epoch 5/15\n",
      "132/132 [==============================] - 50s 379ms/step - loss: 0.4201 - acc: 0.8032 - val_loss: 0.3675 - val_acc: 0.8212\n",
      "Epoch 6/15\n",
      "132/132 [==============================] - 49s 370ms/step - loss: 0.4010 - acc: 0.8199 - val_loss: 0.3799 - val_acc: 0.8288\n",
      "Epoch 7/15\n",
      "132/132 [==============================] - 50s 378ms/step - loss: 0.3942 - acc: 0.8100 - val_loss: 0.4456 - val_acc: 0.7848\n",
      "Epoch 8/15\n",
      "132/132 [==============================] - 51s 385ms/step - loss: 0.3813 - acc: 0.8195 - val_loss: 0.3568 - val_acc: 0.8379\n",
      "Epoch 9/15\n",
      "132/132 [==============================] - 50s 377ms/step - loss: 0.3634 - acc: 0.8244 - val_loss: 0.3703 - val_acc: 0.8273\n",
      "Epoch 10/15\n",
      "132/132 [==============================] - 49s 370ms/step - loss: 0.3597 - acc: 0.8259 - val_loss: 0.5776 - val_acc: 0.7636\n",
      "Epoch 11/15\n",
      "132/132 [==============================] - 50s 376ms/step - loss: 0.3493 - acc: 0.8350 - val_loss: 0.3823 - val_acc: 0.8106\n",
      "Epoch 12/15\n",
      "132/132 [==============================] - 50s 380ms/step - loss: 0.3276 - acc: 0.8468 - val_loss: 0.6022 - val_acc: 0.7561\n",
      "Epoch 13/15\n",
      "132/132 [==============================] - 50s 381ms/step - loss: 0.3334 - acc: 0.8498 - val_loss: 0.3663 - val_acc: 0.8379\n",
      "Epoch 14/15\n",
      "132/132 [==============================] - 50s 380ms/step - loss: 0.3177 - acc: 0.8570 - val_loss: 0.3431 - val_acc: 0.8439\n",
      "Epoch 15/15\n",
      "132/132 [==============================] - 50s 382ms/step - loss: 0.3108 - acc: 0.8563 - val_loss: 0.3446 - val_acc: 0.8364\n"
     ]
    }
   ],
   "source": [
    "history3 = model.fit_generator(\n",
    "                training_set,\n",
    "                steps_per_epoch = len(training_set),\n",
    "                epochs = 15,\n",
    "                validation_data = test_set,\n",
    "                validation_steps = len(test_set))"
   ]
  },
  {
   "cell_type": "code",
   "execution_count": 33,
   "id": "cd437e56",
   "metadata": {},
   "outputs": [
    {
     "data": {
      "image/png": "[encoded data removed]",
      "text/plain": [
       "<Figure size 432x288 with 1 Axes>"
      ]
     },
     "metadata": {
      "needs_background": "light"
     },
     "output_type": "display_data"
    },
    {
     "data": {
      "image/png": "[encoded data removed]",
      "text/plain": [
       "<Figure size 432x288 with 1 Axes>"
      ]
     },
     "metadata": {
      "needs_background": "light"
     },
     "output_type": "display_data"
    }
   ],
   "source": [
    "acc = history3.history['acc']\n",
    "val_acc = history3.history['val_acc']\n",
    "loss = history3.history['loss']\n",
    "val_loss = history3.history['val_loss']\n",
    "\n",
    "epochs = range(1, len(acc) + 1)\n",
    "\n",
    "plt.plot(epochs, acc, 'bo', label = 'Training acc')\n",
    "plt.plot(epochs, val_acc, 'b', label = 'Validation acc')\n",
    "plt.title('Training and Validation Accuracy')\n",
    "plt.legend()\n",
    "\n",
    "plt.figure()\n",
    "\n",
    "plt.plot(epochs, loss, 'bo', label = 'Training loss')\n",
    "plt.plot(epochs, val_loss, 'b', label = 'Validation loss')\n",
    "plt.title('Training and Validation Loss')\n",
    "plt.legend()\n",
    "\n",
    "plt.show()"
   ]
  },
  {
   "cell_type": "markdown",
   "id": "48393758",
   "metadata": {},
   "source": [
    "Data Agumantation (Veri Çoğaltma)"
   ]
  },
  {
   "cell_type": "code",
   "execution_count": 34,
   "id": "c42ae6f3",
   "metadata": {},
   "outputs": [],
   "source": [
    "model = models.Sequential()\n",
    "model.add(layers.Conv2D(32, (3, 3), activation = 'relu', input_shape = (150, 150, 3)))\n",
    "model.add(layers.MaxPooling2D((2, 2)))\n",
    "model.add(layers.Conv2D(64, (3, 3), activation = 'relu'))\n",
    "model.add(layers.MaxPooling2D((2, 2)))\n",
    "model.add(layers.Conv2D(128, (3, 3), activation = 'relu'))\n",
    "model.add(layers.MaxPooling2D((2, 2)))\n",
    "model.add(layers.Conv2D(128, (3, 3), activation = 'relu'))\n",
    "model.add(layers.MaxPooling2D((2, 2)))\n",
    "model.add(layers.Flatten())\n",
    "model.add(layers.Dropout(0.5))\n",
    "model.add(layers.Dense(512, activation = 'relu'))\n",
    "model.add(layers.Dense(1, activation = 'sigmoid'))\n",
    "\n",
    "model.compile(loss = 'binary_crossentropy',\n",
    "             optimizer=optimizers.RMSprop(learning_rate=1e-4),\n",
    "             metrics=['acc'])"
   ]
  },
  {
   "cell_type": "code",
   "execution_count": 35,
   "id": "cfc0377a",
   "metadata": {},
   "outputs": [
    {
     "name": "stdout",
     "output_type": "stream",
     "text": [
      "Found 2637 images belonging to 2 classes.\n",
      "Found 660 images belonging to 2 classes.\n"
     ]
    }
   ],
   "source": [
    "train_datagen = ImageDataGenerator(\n",
    "                rescale = 1./255,\n",
    "                rotation_range=40,\n",
    "                width_shift_range=0.3,\n",
    "                height_shift_range=0.3,\n",
    "                shear_range=0.3,\n",
    "                zoom_range=0.3,\n",
    "                horizontal_flip=True)\n",
    "\n",
    "test_datagen = ImageDataGenerator(rescale=1./255)\n",
    "\n",
    "training_set = train_datagen.flow_from_directory('data/train',\n",
    "                                                 target_size = (150,150),\n",
    "                                                 batch_size = 20,\n",
    "                                                 class_mode = 'binary')\n",
    "\n",
    "test_set = test_datagen.flow_from_directory('data/test',\n",
    "                                            target_size = (150,150),\n",
    "                                            batch_size = 20,\n",
    "                                            class_mode = 'binary')"
   ]
  },
  {
   "cell_type": "code",
   "execution_count": 36,
   "id": "2805fe17",
   "metadata": {},
   "outputs": [
    {
     "name": "stdout",
     "output_type": "stream",
     "text": [
      "Epoch 1/15\n"
     ]
    },
    {
     "name": "stderr",
     "output_type": "stream",
     "text": [
      "<ipython-input-36-aa944477ff16>:1: UserWarning: `Model.fit_generator` is deprecated and will be removed in a future version. Please use `Model.fit`, which supports generators.\n",
      "  history4 = model.fit_generator(\n"
     ]
    },
    {
     "name": "stdout",
     "output_type": "stream",
     "text": [
      "132/132 [==============================] - 43s 315ms/step - loss: 0.6041 - acc: 0.6492 - val_loss: 0.4608 - val_acc: 0.7803\n",
      "Epoch 2/15\n",
      "132/132 [==============================] - 40s 302ms/step - loss: 0.4885 - acc: 0.7520 - val_loss: 0.4705 - val_acc: 0.7591\n",
      "Epoch 3/15\n",
      "132/132 [==============================] - 42s 321ms/step - loss: 0.4533 - acc: 0.7728 - val_loss: 0.4642 - val_acc: 0.7758\n",
      "Epoch 4/15\n",
      "132/132 [==============================] - 42s 321ms/step - loss: 0.4432 - acc: 0.7804 - val_loss: 0.4811 - val_acc: 0.7636\n",
      "Epoch 5/15\n",
      "132/132 [==============================] - 40s 305ms/step - loss: 0.4366 - acc: 0.7812 - val_loss: 0.4369 - val_acc: 0.7833\n",
      "Epoch 6/15\n",
      "132/132 [==============================] - 43s 325ms/step - loss: 0.4333 - acc: 0.7823 - val_loss: 0.4174 - val_acc: 0.7879\n",
      "Epoch 7/15\n",
      "132/132 [==============================] - 41s 309ms/step - loss: 0.4281 - acc: 0.7967 - val_loss: 0.3907 - val_acc: 0.7955\n",
      "Epoch 8/15\n",
      "132/132 [==============================] - 45s 340ms/step - loss: 0.4131 - acc: 0.7971 - val_loss: 0.4200 - val_acc: 0.7955\n",
      "Epoch 9/15\n",
      "132/132 [==============================] - 41s 308ms/step - loss: 0.4097 - acc: 0.8058 - val_loss: 0.3821 - val_acc: 0.8091\n",
      "Epoch 10/15\n",
      "132/132 [==============================] - 40s 306ms/step - loss: 0.4087 - acc: 0.8017 - val_loss: 0.4004 - val_acc: 0.7985\n",
      "Epoch 11/15\n",
      "132/132 [==============================] - 44s 330ms/step - loss: 0.4062 - acc: 0.8089 - val_loss: 0.4180 - val_acc: 0.7848\n",
      "Epoch 12/15\n",
      "132/132 [==============================] - 42s 317ms/step - loss: 0.3958 - acc: 0.8104 - val_loss: 0.3997 - val_acc: 0.8242\n",
      "Epoch 13/15\n",
      "132/132 [==============================] - 43s 329ms/step - loss: 0.3989 - acc: 0.8070 - val_loss: 0.4443 - val_acc: 0.7848\n",
      "Epoch 14/15\n",
      "132/132 [==============================] - 40s 300ms/step - loss: 0.3917 - acc: 0.8130 - val_loss: 0.3699 - val_acc: 0.8333\n",
      "Epoch 15/15\n",
      "132/132 [==============================] - 41s 308ms/step - loss: 0.3878 - acc: 0.8093 - val_loss: 0.4046 - val_acc: 0.8091\n"
     ]
    }
   ],
   "source": [
    "history4 = model.fit_generator(\n",
    "                training_set,\n",
    "                steps_per_epoch = len(training_set),\n",
    "                epochs = 15,\n",
    "                validation_data = test_set,\n",
    "                validation_steps = len(test_set))"
   ]
  },
  {
   "cell_type": "code",
   "execution_count": 38,
   "id": "c0d4bea5",
   "metadata": {},
   "outputs": [
    {
     "data": {
      "image/png": "[encoded data removed]",
      "text/plain": [
       "<Figure size 432x288 with 1 Axes>"
      ]
     },
     "metadata": {
      "needs_background": "light"
     },
     "output_type": "display_data"
    },
    {
     "data": {
      "image/png": "[encoded data removed]",
      "text/plain": [
       "<Figure size 432x288 with 1 Axes>"
      ]
     },
     "metadata": {
      "needs_background": "light"
     },
     "output_type": "display_data"
    }
   ],
   "source": [
    "acc = history4.history['acc']\n",
    "val_acc = history4.history['val_acc']\n",
    "loss = history4.history['loss']\n",
    "val_loss = history4.history['val_loss']\n",
    "\n",
    "epochs = range(1, len(acc) + 1)\n",
    "\n",
    "plt.plot(epochs, acc, 'bo', label = 'Training acc')\n",
    "plt.plot(epochs, val_acc, 'b', label = 'Validation acc')\n",
    "plt.title('Training and Validation Accuracy')\n",
    "plt.legend()\n",
    "\n",
    "plt.figure()\n",
    "\n",
    "plt.plot(epochs, loss, 'bo', label = 'Training loss')\n",
    "plt.plot(epochs, val_loss, 'b', label = 'Validation loss')\n",
    "plt.title('Training and Validation Loss')\n",
    "plt.legend()\n",
    "\n",
    "plt.show()"
   ]
  },
  {
   "cell_type": "code",
   "execution_count": null,
   "id": "2d3c9bcc",
   "metadata": {},
   "outputs": [],
   "source": []
  }
 ],
 "metadata": {
  "hide_input": false,
  "kernelspec": {
   "display_name": "Python 3",
   "language": "python",
   "name": "python3"
  },
  "language_info": {
   "codemirror_mode": {
    "name": "ipython",
    "version": 3
   },
   "file_extension": ".py",
   "mimetype": "text/x-python",
   "name": "python",
   "nbconvert_exporter": "python",
   "pygments_lexer": "ipython3",
   "version": "3.8.8"
  }
 },
 "nbformat": 4,
 "nbformat_minor": 5
}
